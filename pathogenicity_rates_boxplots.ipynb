{
 "cells": [
  {
   "cell_type": "code",
   "execution_count": null,
   "id": "a1fcfa24",
   "metadata": {},
   "outputs": [],
   "source": [
    "%matplotlib inline"
   ]
  },
  {
   "cell_type": "code",
   "execution_count": null,
   "id": "0a39f0b6",
   "metadata": {},
   "outputs": [],
   "source": [
    "\n",
    "from scipy.stats import mannwhitneyu\n",
    "from scipy.stats import ttest_ind\n",
    "import matplotlib.pyplot as plt"
   ]
  },
  {
   "cell_type": "markdown",
   "id": "d6de0301",
   "metadata": {
    "cell_marker": "######################################################################################"
   },
   "source": [
    "################# READ THIS FIRST ###################################################\n",
    "#####################################################################################\n",

    "Any statement that starts with a number sign is not read by Python, but it has information for you.\n",
    "For data, add the data that you want to compare, e.g. evolutionary rates for pathogenic versus benign sites, etc.\n",
    "First, replace the data for evolutionary rates between pathogenic versus benign sites for your protein. \n",
    "Make sure that it is formatted the same way as the example data (no leading or trailing commas)!\n",
    "Second, under Run, select Run all Cells. After several seconds, a p-value and box plot will appear at the bottom of the screen.\n",
    "The script also generates a png showing the data as boxplot. Under Files (on the left), right-click and download your box plot.\n",
    "Lastly, make note of the p-value provided after running the script in your electronic lab notebook.\n",

    "##############################################################################\n",
    "Replace the example data below with your data."
   ]
  },
  {
   "cell_type": "code",
   "execution_count": null,
   "id": "8708b5e5",
   "metadata": {},
   "outputs": [],
   "source": [
    "Rates_Pathogenic = -0.664,-0.688,-0.704,-0.651,-0.685,-0.412,-0.665,-0.39,-0.102,0.811,2.17,-0.538,-0.737,-0.722,-0.368,-0.725,-0.669,-0.69,-0.734,-0.689,-0.738,-0.74,-0.731,-0.732,-0.691,-0.722,-0.723,-0.732,-0.738,-0.734,-0.556,-0.691,-0.723,-0.721,-0.738,-0.69,-0.723,-0.719,-0.734,-0.721,-0.689,-0.69,-0.74,-0.722,-0.734,-0.738,-0.739,-0.723,-0.74,-0.738,-0.739,-0.731,-0.722,-0.732,-0.731,-0.723,-0.734,-0.738,-0.723,-0.541,-0.719,-0.738,-0.691,-0.632,-0.732,-0.689,-0.717,-0.732,-0.738,-0.56,-0.648,-0.532,-0.691,-0.722,-0.734,-0.722,-0.689,-0.738,-0.644,-0.699,-0.738,-0.719,-0.691,-0.694,-0.725,-0.738,-0.691,-0.74,-0.459,-0.732,-0.731,-0.736,-0.74,-0.689,-0.719,-0.683,-0.632,-0.725,-0.738,-0.74,-0.734,-0.691,-0.69,-0.738,-0.732,-0.719,-0.723,-0.723,-0.74,-0.74,-0.722,-0.738,-0.691,-0.722,-0.74,-0.721,-0.722,-0.738,-0.734,-0.669,-0.74,-0.732,-0.74,-0.698,-0.645,-0.631,-0.734,-0.616,-0.74,-0.738,-0.74,-0.722,-0.675,-0.426,-0.668,-0.722,-0.734,-0.738,-0.624,-0.683\n",
    "Rates_Benign = 2.461,0.865,1.12,0.778,2.457,0.049,0.263,-0.362,0.311,0.203,-0.067,-0.364,-0.201,0.06,-0.295,0.211,0.776,-0.203,-0.085,0.182,0.889,-0.284,0.866,1.517,0.807,0.856,2.332,2.395,-0.376,-0.565,-0.085,0.839,0.164,1.052,0.851,0.588,-0.037,1.518,0.829,0.107,2.425,2.455,0.492,2.464,2.464,1.863,2.465,1.017,2.442,2.451,0.965,0.656,2.465,0.432,2.465,2.465,0.996,2.029,0.041,0.828,0.109,0.072,-0.297,-0.508,2.419,2.465,1.291,-0.014,0.877,1.045,0.068,-0.225,-0.547,0.223,0.308,0.714,-0.076,0.487,0.597,2.432,0.653,2.465,0.685,-0.196,0.512,2.454,2.465,2.46,2.465,0.874,2.432,0.879,0.336,2.465,2.465,0.04,-0.354,-0.362,1.03,2.339,2.465,2.209,1.478,2.465,2.465,0.76,2.465,2.367,0.304,1.18,1.021,-0.139,0.904,2.235,2.465,2.456,0.308,0.15,0.774,0.986,1.161,0.436,0.595,-0.692,0.228,0.779,0.772,0.176,0.915,-0.273,0.722,0.565,0.601,0.294,0.17,0.555,0.413,1.079,0.742,0.878,0.671,1.981,0.842,0.756,0.924,0.837,2.421,1.463,0.353,2.455,-0.044,0.209,-0.243"
   ]
  },
  {
   "cell_type": "markdown",
   "id": "3f5bf941",
   "metadata": {
    "cell_marker": "########################################################################################"
   },
   "source": [
    "################# HERE YOU CAN SPECIFY WHICH COLORS TO USE ############################\n",
    "#######################################################################################"
   ]
  },
  {
   "cell_type": "code",
   "execution_count": null,
   "id": "76a02def",
   "metadata": {},
   "outputs": [],
   "source": [
    "colors = ['#32CD32', '#FEE11A'] # You can replace the HEX CODES as you wish. Google color and HEX CODE to find your colors."
   ]
  },
  {
   "cell_type": "markdown",
   "id": "f235074f",
   "metadata": {
    "cell_marker": "########################################################################################"
   },
   "source": [
    "########################## *** NOTHING MORE TO CHANGE *** #############################\n",
    "############################### *** RUN THE SCRIPT *** ################################\n",
    "#######################################################################################"
   ]
  },
  {
   "cell_type": "code",
   "execution_count": null,
   "id": "dab40f4d",
   "metadata": {},
   "outputs": [],
   "source": [
    "Sites1 = 'Pathogenic'\n",
    "Sites2 = 'Benign'\n",
    "data1 = eval('Rates_'+Sites1)    \n",
    "data2 = eval('Rates_'+Sites2)\n",
    "\n",
    "test_name=\"mann_wu\"                            \n",
    "\n",
    "# hypothesis test & results\n",
    "stat, p = mannwhitneyu(data1, data2)\n",
    "print('\\nHypothesis testing with Mann-Whitney for '+Sites1+' & '+Sites2+':')                         \n",
    "print('pvalue=%.3f' % (p))\n",
    "\n",
    "data=[data1, data2]\n",
    "fig1, ax1 = plt.subplots(figsize=(8, 8)) #You can change the size of the figure\n",
    "max_height =max(max(data1),max(data2)) # max height of data needed for plotting location siginifcance bars\n",
    "ax1.boxplot(data)\n",
    "\n",
    "medianprops = dict(linestyle='-', linewidth=2.0, color='grey') #You can change how your median looks\n",
    "meanpointprops = dict(marker='.', markersize=16, markeredgecolor='black', markerfacecolor='black') #You can change how the mean marker looks\n",
    "box = plt.boxplot(data, widths = 0.6, patch_artist=True, medianprops=medianprops, meanprops=meanpointprops, meanline=False, showmeans=True)\n",
    "          \n",
    "for patch, color in zip(box['boxes'], colors):\n",
    "    patch.set_facecolor(color)  \n",
    "ax1.set_title('Evolutionary rates', fontsize = 24, weight='bold')    \n",
    "plt.xticks([1, 2], [Sites1, Sites2], fontsize = 30) #Change text as needed for the data you are showing\n",
    "plt.yticks(fontsize = 24) #Change the tickmarks and axis to fix the data\n",
    "\n",
    "plt.savefig('pathogenicity_rates_boxplot.png'.format(Sites1,Sites2), dpi=600)"
   ]
  }
 ],
 "metadata": {
  "jupytext": {
   "cell_metadata_filter": "-all",
   "encoding": "# -*- coding: utf-8 -*-",
   "formats": "ipynb,py",
   "main_language": "python"
  }
 },
 "nbformat": 4,
 "nbformat_minor": 5
}
